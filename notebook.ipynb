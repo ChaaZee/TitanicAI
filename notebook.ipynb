{
 "cells": [
  {
   "cell_type": "code",
   "execution_count": 7,
   "metadata": {},
   "outputs": [
    {
     "ename": "AttributeError",
     "evalue": "module 'Encoder' has no attribute 'ArrayEncoder'",
     "output_type": "error",
     "traceback": [
      "\u001b[1;31m---------------------------------------------------------------------------\u001b[0m",
      "\u001b[1;31mAttributeError\u001b[0m                            Traceback (most recent call last)",
      "Cell \u001b[1;32mIn[7], line 19\u001b[0m\n\u001b[0;32m     16\u001b[0m X \u001b[38;5;241m=\u001b[39m train_csv\u001b[38;5;241m.\u001b[39mdrop(columns \u001b[38;5;241m=\u001b[39m [\u001b[38;5;124m'\u001b[39m\u001b[38;5;124mPassengerId\u001b[39m\u001b[38;5;124m'\u001b[39m,\u001b[38;5;124m'\u001b[39m\u001b[38;5;124mTicket\u001b[39m\u001b[38;5;124m'\u001b[39m,\u001b[38;5;124m'\u001b[39m\u001b[38;5;124mCabin\u001b[39m\u001b[38;5;124m'\u001b[39m,\u001b[38;5;124m'\u001b[39m\u001b[38;5;124mEmbarked\u001b[39m\u001b[38;5;124m'\u001b[39m,\u001b[38;5;124m'\u001b[39m\u001b[38;5;124mSurvived\u001b[39m\u001b[38;5;124m'\u001b[39m])\n\u001b[0;32m     17\u001b[0m \u001b[38;5;66;03m#X['Name'] = le.fit_transform(X['Name'])\u001b[39;00m\n\u001b[0;32m     18\u001b[0m \u001b[38;5;66;03m#X['Sex'] = le.fit_transform(X['Sex'])\u001b[39;00m\n\u001b[1;32m---> 19\u001b[0m X[\u001b[38;5;124m'\u001b[39m\u001b[38;5;124mName\u001b[39m\u001b[38;5;124m'\u001b[39m] \u001b[38;5;241m=\u001b[39m enc\u001b[38;5;241m.\u001b[39mArrayEncoder(X[\u001b[38;5;124m'\u001b[39m\u001b[38;5;124mName\u001b[39m\u001b[38;5;124m'\u001b[39m])\n\u001b[0;32m     20\u001b[0m X[\u001b[38;5;124m'\u001b[39m\u001b[38;5;124mSex\u001b[39m\u001b[38;5;124m'\u001b[39m] \u001b[38;5;241m=\u001b[39m le\u001b[38;5;241m.\u001b[39mfit_transform(X[\u001b[38;5;124m'\u001b[39m\u001b[38;5;124mSex\u001b[39m\u001b[38;5;124m'\u001b[39m])\n\u001b[0;32m     21\u001b[0m X \u001b[38;5;241m=\u001b[39m imputer\u001b[38;5;241m.\u001b[39mfit_transform(X)\n",
      "\u001b[1;31mAttributeError\u001b[0m: module 'Encoder' has no attribute 'ArrayEncoder'"
     ]
    }
   ],
   "source": [
    "import numpy as np\n",
    "import pandas as pd\n",
    "from sklearn.neural_network import MLPClassifier\n",
    "from sklearn.preprocessing import OneHotEncoder, StandardScaler, LabelEncoder, OrdinalEncoder\n",
    "from sklearn.model_selection import train_test_split\n",
    "from sklearn.impute import SimpleImputer\n",
    "import Encoder as enc\n",
    "\n",
    "oe = OrdinalEncoder()\n",
    "ohe = OneHotEncoder()\n",
    "le = LabelEncoder()\n",
    "\n",
    "imputer = SimpleImputer(missing_values = pd.NA, strategy = 'mean')\n",
    "\n",
    "train_csv = pd.read_csv('tit_train.csv')\n",
    "X = train_csv.drop(columns = ['PassengerId','Ticket','Cabin','Embarked','Survived'])\n",
    "#X['Name'] = le.fit_transform(X['Name'])\n",
    "#X['Sex'] = le.fit_transform(X['Sex'])\n",
    "X['Name'] = enc.ArrayEncoder(X['Name'])\n",
    "X['Sex'] = le.fit_transform(X['Sex'])\n",
    "X = imputer.fit_transform(X)\n",
    "\n",
    "y = train_csv['Survived']\n",
    "\n",
    "test_csv = pd.read_csv('tit_test.csv')\n",
    "tX = test_csv.drop(columns = ['PassengerId','Ticket','Cabin','Embarked'])\n",
    "#tX['Name'] = le.fit_transform(tX['Name'])\n",
    "#tX['Sex'] = le.fit_transform(tX['Sex'])\n",
    "tX['Name'] = enc.ArrayEncoder(tX['Name'])\n",
    "tX['Sex'] = le.fit_transform(tX['Sex'])\n",
    "tX = imputer.fit_transform(tX)\n",
    "tX[414]\n",
    "#test_y = test_csv['Survived']"
   ]
  },
  {
   "cell_type": "code",
   "execution_count": 3,
   "metadata": {},
   "outputs": [],
   "source": [
    "#train_X, test_X, train_y, test_y = train_test_split(X, y, test_size = 0.2) \n",
    "train_X = X\n",
    "train_y = y\n",
    "test_X = tX"
   ]
  },
  {
   "cell_type": "code",
   "execution_count": 127,
   "metadata": {},
   "outputs": [],
   "source": [
    "scaler = StandardScaler()\n",
    "train_X = scaler.fit_transform(train_X)\n",
    "test_X = scaler.transform(test_X)"
   ]
  },
  {
   "cell_type": "code",
   "execution_count": 4,
   "metadata": {},
   "outputs": [
    {
     "data": {
      "text/plain": [
       "array([[3.00000000e+00, 1.62438281e+11, 1.00000000e+00, ...,\n",
       "        0.00000000e+00, 0.00000000e+00, 7.82920000e+00],\n",
       "       [3.00000000e+00, 3.22324313e+23, 0.00000000e+00, ...,\n",
       "        1.00000000e+00, 0.00000000e+00, 7.00000000e+00],\n",
       "       [2.00000000e+00, 3.81732382e+19, 1.00000000e+00, ...,\n",
       "        0.00000000e+00, 0.00000000e+00, 9.68750000e+00],\n",
       "       ...,\n",
       "       [3.00000000e+00, 2.02513314e+21, 1.00000000e+00, ...,\n",
       "        0.00000000e+00, 0.00000000e+00, 7.25000000e+00],\n",
       "       [3.00000000e+00, 2.42331249e+12, 1.00000000e+00, ...,\n",
       "        0.00000000e+00, 0.00000000e+00, 8.05000000e+00],\n",
       "       [3.00000000e+00, 2.12531203e+16, 1.00000000e+00, ...,\n",
       "        1.00000000e+00, 1.00000000e+00, 2.23583000e+01]])"
      ]
     },
     "execution_count": 4,
     "metadata": {},
     "output_type": "execute_result"
    }
   ],
   "source": [
    "test_X"
   ]
  },
  {
   "cell_type": "code",
   "execution_count": 5,
   "metadata": {},
   "outputs": [],
   "source": [
    "clf = MLPClassifier(max_iter=5000).fit(train_X, train_y)"
   ]
  },
  {
   "cell_type": "code",
   "execution_count": 6,
   "metadata": {},
   "outputs": [
    {
     "ename": "ValueError",
     "evalue": "invalid literal for int() with base 10: ''",
     "output_type": "error",
     "traceback": [
      "\u001b[1;31m---------------------------------------------------------------------------\u001b[0m",
      "\u001b[1;31mValueError\u001b[0m                                Traceback (most recent call last)",
      "Cell \u001b[1;32mIn[6], line 2\u001b[0m\n\u001b[0;32m      1\u001b[0m \u001b[38;5;66;03m#Passenger Class, Name, Sex(m=1,f=0), Age, Siblings/Spouse, Parents/Children, Fare\u001b[39;00m\n\u001b[1;32m----> 2\u001b[0m inputArray \u001b[38;5;241m=\u001b[39m np\u001b[38;5;241m.\u001b[39marray([\u001b[38;5;241m1\u001b[39m, enc\u001b[38;5;241m.\u001b[39mStringEncoder(\u001b[38;5;124m'\u001b[39m\u001b[38;5;124mEden, Chaz\u001b[39m\u001b[38;5;124m'\u001b[39m), \u001b[38;5;241m1\u001b[39m, \u001b[38;5;241m17\u001b[39m, \u001b[38;5;241m3\u001b[39m, \u001b[38;5;241m2\u001b[39m, \u001b[38;5;241m8\u001b[39m])\n\u001b[0;32m      3\u001b[0m clf\u001b[38;5;241m.\u001b[39mpredict(inputArray)\n",
      "File \u001b[1;32mc:\\Users\\chaze\\VSCodeProjects\\TitanicAI\\TitanicAI\\Encoder.py:32\u001b[0m, in \u001b[0;36mStringEncoder\u001b[1;34m(array)\u001b[0m\n\u001b[0;32m     29\u001b[0m                     newStr \u001b[38;5;241m+\u001b[39m\u001b[38;5;241m=\u001b[39m np\u001b[38;5;241m.\u001b[39mstr_((alphabet\u001b[38;5;241m.\u001b[39mindex(newS[x]\u001b[38;5;241m.\u001b[39mlower()) \u001b[38;5;241m+\u001b[39m \u001b[38;5;241m1\u001b[39m) \u001b[38;5;241m+\u001b[39m \n\u001b[0;32m     30\u001b[0m                                       (alphabet\u001b[38;5;241m.\u001b[39mindex(newS[x \u001b[38;5;241m-\u001b[39m \u001b[38;5;241m1\u001b[39m]\u001b[38;5;241m.\u001b[39mlower()) \u001b[38;5;241m+\u001b[39m \u001b[38;5;241m1\u001b[39m))\n\u001b[0;32m     31\u001b[0m     \u001b[38;5;66;03m#print(newStr)\u001b[39;00m\n\u001b[1;32m---> 32\u001b[0m     newInt \u001b[38;5;241m=\u001b[39m \u001b[38;5;28mint\u001b[39m(newStr)\n\u001b[0;32m     33\u001b[0m     newArray \u001b[38;5;241m=\u001b[39m np\u001b[38;5;241m.\u001b[39mappend(newArray, newInt)\n\u001b[0;32m     35\u001b[0m \u001b[38;5;28;01mreturn\u001b[39;00m newArray\n",
      "\u001b[1;31mValueError\u001b[0m: invalid literal for int() with base 10: ''"
     ]
    }
   ],
   "source": [
    "#Passenger Class, Name, Sex(m=1,f=0), Age, Siblings/Spouse, Parents/Children, Fare\n",
    "inputArray = np.array([1, enc.StringEncoder('Eden, Chaz'), 1, 17, 3, 2, 8])\n",
    "clf.predict(inputArray)"
   ]
  },
  {
   "cell_type": "code",
   "execution_count": 141,
   "metadata": {},
   "outputs": [
    {
     "data": {
      "text/plain": [
       "array([  3.    , 206.    ,   1.    ,  34.5   ,   0.    ,   0.    ,\n",
       "         7.8292])"
      ]
     },
     "execution_count": 141,
     "metadata": {},
     "output_type": "execute_result"
    }
   ],
   "source": [
    "clf.predict(test_X[0].reshape(1,-1))"
   ]
  }
 ],
 "metadata": {
  "kernelspec": {
   "display_name": "base",
   "language": "python",
   "name": "python3"
  },
  "language_info": {
   "codemirror_mode": {
    "name": "ipython",
    "version": 3
   },
   "file_extension": ".py",
   "mimetype": "text/x-python",
   "name": "python",
   "nbconvert_exporter": "python",
   "pygments_lexer": "ipython3",
   "version": "3.11.5"
  }
 },
 "nbformat": 4,
 "nbformat_minor": 2
}
