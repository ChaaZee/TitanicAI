{
 "cells": [
  {
   "cell_type": "code",
   "execution_count": 38,
   "metadata": {},
   "outputs": [],
   "source": [
    "import numpy as np\n",
    "import pandas as pd\n",
    "from sklearn.neural_network import MLPClassifier, MLPRegressor\n",
    "from sklearn.preprocessing import OneHotEncoder, StandardScaler, LabelEncoder, OrdinalEncoder\n",
    "from sklearn.model_selection import train_test_split\n",
    "from sklearn.impute import SimpleImputer\n",
    "import Encoder as enc\n",
    "\n",
    "oe = OrdinalEncoder()\n",
    "ohe = OneHotEncoder()\n",
    "le = LabelEncoder()\n",
    "\n",
    "imputer = SimpleImputer(missing_values = pd.NA, strategy = 'mean')\n",
    "\n",
    "train_csv = pd.read_csv('tit_train.csv')\n",
    "X = train_csv.drop(columns = ['PassengerId','Ticket','Cabin','Embarked','Survived'])\n",
    "#X['Name'] = le.fit_transform(X['Name'])\n",
    "#X['Sex'] = le.fit_transform(X['Sex'])\n",
    "X['Name'] = enc.ArrayEncoder(X['Name'])\n",
    "X['Sex'] = le.fit_transform(X['Sex'])\n",
    "X = imputer.fit_transform(X)\n",
    "\n",
    "y = train_csv['Survived']\n",
    "\n",
    "test_csv = pd.read_csv('tit_test.csv')\n",
    "tX = test_csv.drop(columns = ['PassengerId','Ticket','Cabin','Embarked'])\n",
    "#tX['Name'] = le.fit_transform(tX['Name'])\n",
    "#tX['Sex'] = le.fit_transform(tX['Sex'])\n",
    "tX['Name'] = enc.ArrayEncoder(tX['Name'])\n",
    "tX['Sex'] = le.fit_transform(tX['Sex'])\n",
    "tX = imputer.fit_transform(tX)\n",
    "#test_y = test_csv['Survived']"
   ]
  },
  {
   "cell_type": "code",
   "execution_count": 39,
   "metadata": {},
   "outputs": [],
   "source": [
    "#train_X, test_X, train_y, test_y = train_test_split(X, y, test_size = 0.2) \n",
    "train_X = X\n",
    "train_y = y\n",
    "test_X = tX"
   ]
  },
  {
   "cell_type": "code",
   "execution_count": 40,
   "metadata": {},
   "outputs": [],
   "source": [
    "scaler = StandardScaler()\n",
    "train_X = scaler.fit_transform(train_X)\n",
    "test_X = scaler.transform(test_X)"
   ]
  },
  {
   "cell_type": "code",
   "execution_count": 41,
   "metadata": {},
   "outputs": [
    {
     "data": {
      "text/plain": [
       "array([[ 0.82737724, -0.03352008,  0.73769513, ..., -0.4745452 ,\n",
       "        -0.47367361, -0.49078316],\n",
       "       [ 0.82737724, -0.03352008, -1.35557354, ...,  0.43279337,\n",
       "        -0.47367361, -0.50747884],\n",
       "       [-0.36936484, -0.03352008,  0.73769513, ..., -0.4745452 ,\n",
       "        -0.47367361, -0.45336687],\n",
       "       ...,\n",
       "       [ 0.82737724, -0.03352008,  0.73769513, ..., -0.4745452 ,\n",
       "        -0.47367361, -0.50244517],\n",
       "       [ 0.82737724, -0.03352008,  0.73769513, ..., -0.4745452 ,\n",
       "        -0.47367361, -0.48633742],\n",
       "       [ 0.82737724, -0.03352008,  0.73769513, ...,  0.43279337,\n",
       "         0.76762988, -0.19824428]])"
      ]
     },
     "execution_count": 41,
     "metadata": {},
     "output_type": "execute_result"
    }
   ],
   "source": [
    "test_X"
   ]
  },
  {
   "cell_type": "code",
   "execution_count": 42,
   "metadata": {},
   "outputs": [],
   "source": [
    "clf = MLPClassifier(max_iter=5000).fit(train_X, train_y)"
   ]
  },
  {
   "cell_type": "code",
   "execution_count": 43,
   "metadata": {},
   "outputs": [
    {
     "data": {
      "text/plain": [
       "array([1], dtype=int64)"
      ]
     },
     "execution_count": 43,
     "metadata": {},
     "output_type": "execute_result"
    }
   ],
   "source": [
    "#Passenger Class, Name, Sex(m=1,f=0), Age, Siblings/Spouse, Parents/Children, Fare\n",
    "inputArray = scaler.transform(np.array([1, enc.StringEncoder('Eden, Chaz'), 1, 17, 3, 2, 8]).reshape(1,-1))\n",
    "clf.predict(inputArray)"
   ]
  },
  {
   "cell_type": "code",
   "execution_count": 44,
   "metadata": {},
   "outputs": [
    {
     "data": {
      "text/plain": [
       "array([0, 0, 0, 0, 0, 0, 1, 0, 1, 0, 0, 0, 1, 0, 1, 1, 0, 0, 0, 0, 0, 1,\n",
       "       1, 1, 1, 0, 1, 0, 0, 0, 0, 0, 0, 0, 0, 0, 1, 1, 0, 1, 0, 0, 0, 1,\n",
       "       1, 0, 0, 0, 1, 0, 0, 0, 1, 1, 0, 0, 0, 0, 0, 1, 0, 0, 0, 1, 0, 1,\n",
       "       1, 0, 0, 0, 1, 0, 1, 0, 1, 0, 0, 1, 0, 1, 1, 1, 0, 0, 0, 0, 1, 1,\n",
       "       1, 1, 0, 0, 1, 0, 1, 0, 1, 0, 1, 0, 1, 0, 0, 0, 0, 0, 0, 0, 0, 0,\n",
       "       0, 1, 1, 1, 1, 0, 0, 1, 0, 1, 1, 0, 1, 0, 0, 1, 0, 1, 0, 0, 0, 0,\n",
       "       0, 0, 0, 0, 0, 0, 1, 0, 0, 1, 0, 0, 0, 0, 0, 0, 0, 0, 1, 0, 0, 0,\n",
       "       0, 0, 1, 1, 0, 1, 1, 1, 1, 0, 0, 0, 0, 0, 1, 1, 0, 0, 0, 0, 0, 1,\n",
       "       1, 0, 1, 1, 0, 0, 1, 0, 1, 0, 1, 0, 0, 0, 0, 0, 1, 0, 1, 0, 1, 1,\n",
       "       0, 1, 1, 1, 1, 1, 0, 0, 1, 0, 1, 0, 0, 0, 0, 1, 0, 0, 1, 0, 1, 0,\n",
       "       1, 0, 1, 0, 1, 0, 0, 1, 0, 0, 0, 1, 0, 0, 0, 0, 1, 0, 1, 1, 1, 1,\n",
       "       0, 0, 0, 0, 1, 0, 1, 1, 1, 0, 0, 0, 0, 0, 0, 0, 1, 0, 0, 0, 1, 1,\n",
       "       0, 0, 0, 0, 1, 0, 0, 0, 1, 1, 0, 1, 0, 0, 0, 0, 1, 1, 1, 1, 1, 0,\n",
       "       0, 0, 0, 0, 0, 1, 0, 0, 0, 0, 1, 0, 0, 0, 0, 0, 0, 0, 1, 1, 0, 1,\n",
       "       0, 1, 0, 0, 0, 1, 1, 1, 1, 0, 0, 0, 0, 0, 0, 0, 1, 0, 1, 0, 0, 0,\n",
       "       1, 0, 0, 0, 0, 0, 0, 0, 0, 0, 0, 0, 0, 1, 0, 1, 0, 1, 0, 1, 1, 0,\n",
       "       0, 0, 1, 0, 1, 0, 0, 1, 0, 1, 1, 0, 1, 0, 0, 1, 1, 0, 0, 1, 0, 0,\n",
       "       1, 1, 0, 0, 0, 0, 0, 0, 1, 0, 0, 1, 0, 0, 0, 0, 0, 1, 1, 0, 0, 1,\n",
       "       0, 1, 0, 0], dtype=int64)"
      ]
     },
     "execution_count": 44,
     "metadata": {},
     "output_type": "execute_result"
    }
   ],
   "source": [
    "clf.predict(test_X[:400])"
   ]
  }
 ],
 "metadata": {
  "kernelspec": {
   "display_name": "base",
   "language": "python",
   "name": "python3"
  },
  "language_info": {
   "codemirror_mode": {
    "name": "ipython",
    "version": 3
   },
   "file_extension": ".py",
   "mimetype": "text/x-python",
   "name": "python",
   "nbconvert_exporter": "python",
   "pygments_lexer": "ipython3",
   "version": "3.11.5"
  }
 },
 "nbformat": 4,
 "nbformat_minor": 2
}
